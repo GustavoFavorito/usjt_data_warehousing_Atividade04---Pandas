{
 "cells": [
  {
   "cell_type": "markdown",
   "metadata": {
    "colab_type": "text",
    "id": "ZQ-KG8XSIJxY"
   },
   "source": [
    "![logo_usjt.png](https://www.usjt.br/app/themes/mobister/dist/images/sao-judas-universidade.png)"
   ]
  },
  {
   "cell_type": "markdown",
   "metadata": {
    "colab_type": "text",
    "id": "n14P8A5QzMZ2"
   },
   "source": [
    "# Datawarehousing & Data Mining\n",
    "- **Professor**: Sergio Bonato <antonio.bonato@saojudas.br>"
   ]
  },
  {
   "cell_type": "markdown",
   "metadata": {
    "colab_type": "text",
    "id": "jx7VpamzjRpB"
   },
   "source": [
    "# Atividade04 - Pandas para Análise e Tratamento de Dados\n",
    "\n",
    "**Conteúdo**\n",
    "- Leitura de dados\n",
    "- Filtros\n",
    "- Agregações\n",
    "- Agrupamentos\n",
    "- Pivot Tables\n",
    "- Estatísticas\n",
    "- Séries Temporais"
   ]
  },
  {
   "cell_type": "code",
   "execution_count": 1,
   "metadata": {
    "colab": {},
    "colab_type": "code",
    "id": "AMunmzgFItM4"
   },
   "outputs": [],
   "source": [
    "import pandas as pd\n",
    "# definicao dos dados em listas\n",
    "referencias = ['jan', 'fev', 'mar', 'abr', 'mai', 'jun', 'jul', 'ago', 'set']\n",
    "cdi = [0.54, 0.49, 0.47, 0.52, 0.54, 0.47, 0.57, 0.50, 0.46]\n",
    "ipca = [0.32, 0.43, 0.75, 0.57, 0.13, 0.01, 0.19, 0.11, -0.04]\n",
    "igpm = [0.01, 0.88, 1.26, 0.92, 0.45, 0.80, 0.40, -0.67, -0.01]"
   ]
  },
  {
   "cell_type": "code",
   "execution_count": 2,
   "metadata": {
    "colab": {
     "base_uri": "https://localhost:8080/",
     "height": 328
    },
    "colab_type": "code",
    "executionInfo": {
     "elapsed": 891,
     "status": "ok",
     "timestamp": 1586710219664,
     "user": {
      "displayName": "Gustavo Favorito Demarchi",
      "photoUrl": "",
      "userId": "01940692939914574708"
     },
     "user_tz": 180
    },
    "id": "Wf81jA5eJZNM",
    "outputId": "e02856e5-9ca0-4637-bd09-cc00defecf5c"
   },
   "outputs": [
    {
     "data": {
      "text/html": [
       "<div>\n",
       "<style scoped>\n",
       "    .dataframe tbody tr th:only-of-type {\n",
       "        vertical-align: middle;\n",
       "    }\n",
       "\n",
       "    .dataframe tbody tr th {\n",
       "        vertical-align: top;\n",
       "    }\n",
       "\n",
       "    .dataframe thead th {\n",
       "        text-align: right;\n",
       "    }\n",
       "</style>\n",
       "<table border=\"1\" class=\"dataframe\">\n",
       "  <thead>\n",
       "    <tr style=\"text-align: right;\">\n",
       "      <th></th>\n",
       "      <th>IPCA</th>\n",
       "      <th>CDI</th>\n",
       "      <th>IGPM</th>\n",
       "    </tr>\n",
       "  </thead>\n",
       "  <tbody>\n",
       "    <tr>\n",
       "      <th>jan</th>\n",
       "      <td>0.32</td>\n",
       "      <td>0.54</td>\n",
       "      <td>0.01</td>\n",
       "    </tr>\n",
       "    <tr>\n",
       "      <th>fev</th>\n",
       "      <td>0.43</td>\n",
       "      <td>0.49</td>\n",
       "      <td>0.88</td>\n",
       "    </tr>\n",
       "    <tr>\n",
       "      <th>mar</th>\n",
       "      <td>0.75</td>\n",
       "      <td>0.47</td>\n",
       "      <td>1.26</td>\n",
       "    </tr>\n",
       "    <tr>\n",
       "      <th>abr</th>\n",
       "      <td>0.57</td>\n",
       "      <td>0.52</td>\n",
       "      <td>0.92</td>\n",
       "    </tr>\n",
       "    <tr>\n",
       "      <th>mai</th>\n",
       "      <td>0.13</td>\n",
       "      <td>0.54</td>\n",
       "      <td>0.45</td>\n",
       "    </tr>\n",
       "    <tr>\n",
       "      <th>jun</th>\n",
       "      <td>0.01</td>\n",
       "      <td>0.47</td>\n",
       "      <td>0.80</td>\n",
       "    </tr>\n",
       "    <tr>\n",
       "      <th>jul</th>\n",
       "      <td>0.19</td>\n",
       "      <td>0.57</td>\n",
       "      <td>0.40</td>\n",
       "    </tr>\n",
       "    <tr>\n",
       "      <th>ago</th>\n",
       "      <td>0.11</td>\n",
       "      <td>0.50</td>\n",
       "      <td>-0.67</td>\n",
       "    </tr>\n",
       "    <tr>\n",
       "      <th>set</th>\n",
       "      <td>-0.04</td>\n",
       "      <td>0.46</td>\n",
       "      <td>-0.01</td>\n",
       "    </tr>\n",
       "  </tbody>\n",
       "</table>\n",
       "</div>"
      ],
      "text/plain": [
       "     IPCA   CDI  IGPM\n",
       "jan  0.32  0.54  0.01\n",
       "fev  0.43  0.49  0.88\n",
       "mar  0.75  0.47  1.26\n",
       "abr  0.57  0.52  0.92\n",
       "mai  0.13  0.54  0.45\n",
       "jun  0.01  0.47  0.80\n",
       "jul  0.19  0.57  0.40\n",
       "ago  0.11  0.50 -0.67\n",
       "set -0.04  0.46 -0.01"
      ]
     },
     "execution_count": 2,
     "metadata": {},
     "output_type": "execute_result"
    }
   ],
   "source": [
    "# criação do dataframe e definição do índice\n",
    "indicadores = pd.DataFrame(data={'IPCA': ipca, 'CDI': cdi, 'IGPM': igpm}, index=referencias)\n",
    "indicadores"
   ]
  },
  {
   "cell_type": "markdown",
   "metadata": {
    "colab_type": "text",
    "id": "BbyF0Fl_OE-0"
   },
   "source": [
    "**1** Selecionar o CDI de todos os meses jan, mar, abr, jun, set"
   ]
  },
  {
   "cell_type": "code",
   "execution_count": 3,
   "metadata": {
    "colab": {
     "base_uri": "https://localhost:8080/",
     "height": 204
    },
    "colab_type": "code",
    "executionInfo": {
     "elapsed": 929,
     "status": "ok",
     "timestamp": 1586710223351,
     "user": {
      "displayName": "Gustavo Favorito Demarchi",
      "photoUrl": "",
      "userId": "01940692939914574708"
     },
     "user_tz": 180
    },
    "id": "czm6Y6cZOVG0",
    "outputId": "24e18c63-925f-4c7f-e8e6-9ca007fd5cb4"
   },
   "outputs": [
    {
     "data": {
      "text/html": [
       "<div>\n",
       "<style scoped>\n",
       "    .dataframe tbody tr th:only-of-type {\n",
       "        vertical-align: middle;\n",
       "    }\n",
       "\n",
       "    .dataframe tbody tr th {\n",
       "        vertical-align: top;\n",
       "    }\n",
       "\n",
       "    .dataframe thead th {\n",
       "        text-align: right;\n",
       "    }\n",
       "</style>\n",
       "<table border=\"1\" class=\"dataframe\">\n",
       "  <thead>\n",
       "    <tr style=\"text-align: right;\">\n",
       "      <th></th>\n",
       "      <th>CDI</th>\n",
       "    </tr>\n",
       "  </thead>\n",
       "  <tbody>\n",
       "    <tr>\n",
       "      <th>jan</th>\n",
       "      <td>0.54</td>\n",
       "    </tr>\n",
       "    <tr>\n",
       "      <th>mar</th>\n",
       "      <td>0.47</td>\n",
       "    </tr>\n",
       "    <tr>\n",
       "      <th>abr</th>\n",
       "      <td>0.52</td>\n",
       "    </tr>\n",
       "    <tr>\n",
       "      <th>jun</th>\n",
       "      <td>0.47</td>\n",
       "    </tr>\n",
       "    <tr>\n",
       "      <th>set</th>\n",
       "      <td>0.46</td>\n",
       "    </tr>\n",
       "  </tbody>\n",
       "</table>\n",
       "</div>"
      ],
      "text/plain": [
       "      CDI\n",
       "jan  0.54\n",
       "mar  0.47\n",
       "abr  0.52\n",
       "jun  0.47\n",
       "set  0.46"
      ]
     },
     "execution_count": 3,
     "metadata": {},
     "output_type": "execute_result"
    }
   ],
   "source": [
    "# Solução\n",
    "indicadores.loc[['jan','mar','abr','jun','set'], ['CDI']]"
   ]
  },
  {
   "cell_type": "markdown",
   "metadata": {
    "colab_type": "text",
    "id": "ioV5hswG9ufB"
   },
   "source": [
    "**2** Filtrar todos os registros nos quais o IGP-M é maior que o IPCA"
   ]
  },
  {
   "cell_type": "code",
   "execution_count": 4,
   "metadata": {
    "colab": {
     "base_uri": "https://localhost:8080/",
     "height": 266
    },
    "colab_type": "code",
    "executionInfo": {
     "elapsed": 606,
     "status": "ok",
     "timestamp": 1586710224359,
     "user": {
      "displayName": "Gustavo Favorito Demarchi",
      "photoUrl": "",
      "userId": "01940692939914574708"
     },
     "user_tz": 180
    },
    "id": "bQByEBjkdK2k",
    "outputId": "03b1d268-2925-4067-de93-a5128bcbc6f8"
   },
   "outputs": [
    {
     "data": {
      "text/html": [
       "<div>\n",
       "<style scoped>\n",
       "    .dataframe tbody tr th:only-of-type {\n",
       "        vertical-align: middle;\n",
       "    }\n",
       "\n",
       "    .dataframe tbody tr th {\n",
       "        vertical-align: top;\n",
       "    }\n",
       "\n",
       "    .dataframe thead th {\n",
       "        text-align: right;\n",
       "    }\n",
       "</style>\n",
       "<table border=\"1\" class=\"dataframe\">\n",
       "  <thead>\n",
       "    <tr style=\"text-align: right;\">\n",
       "      <th></th>\n",
       "      <th>IPCA</th>\n",
       "      <th>CDI</th>\n",
       "      <th>IGPM</th>\n",
       "    </tr>\n",
       "  </thead>\n",
       "  <tbody>\n",
       "    <tr>\n",
       "      <th>fev</th>\n",
       "      <td>0.43</td>\n",
       "      <td>0.49</td>\n",
       "      <td>0.88</td>\n",
       "    </tr>\n",
       "    <tr>\n",
       "      <th>mar</th>\n",
       "      <td>0.75</td>\n",
       "      <td>0.47</td>\n",
       "      <td>1.26</td>\n",
       "    </tr>\n",
       "    <tr>\n",
       "      <th>abr</th>\n",
       "      <td>0.57</td>\n",
       "      <td>0.52</td>\n",
       "      <td>0.92</td>\n",
       "    </tr>\n",
       "    <tr>\n",
       "      <th>mai</th>\n",
       "      <td>0.13</td>\n",
       "      <td>0.54</td>\n",
       "      <td>0.45</td>\n",
       "    </tr>\n",
       "    <tr>\n",
       "      <th>jun</th>\n",
       "      <td>0.01</td>\n",
       "      <td>0.47</td>\n",
       "      <td>0.80</td>\n",
       "    </tr>\n",
       "    <tr>\n",
       "      <th>jul</th>\n",
       "      <td>0.19</td>\n",
       "      <td>0.57</td>\n",
       "      <td>0.40</td>\n",
       "    </tr>\n",
       "    <tr>\n",
       "      <th>set</th>\n",
       "      <td>-0.04</td>\n",
       "      <td>0.46</td>\n",
       "      <td>-0.01</td>\n",
       "    </tr>\n",
       "  </tbody>\n",
       "</table>\n",
       "</div>"
      ],
      "text/plain": [
       "     IPCA   CDI  IGPM\n",
       "fev  0.43  0.49  0.88\n",
       "mar  0.75  0.47  1.26\n",
       "abr  0.57  0.52  0.92\n",
       "mai  0.13  0.54  0.45\n",
       "jun  0.01  0.47  0.80\n",
       "jul  0.19  0.57  0.40\n",
       "set -0.04  0.46 -0.01"
      ]
     },
     "execution_count": 4,
     "metadata": {},
     "output_type": "execute_result"
    }
   ],
   "source": [
    "# Solução\n",
    "indicadores[indicadores['IGPM'] > indicadores['IPCA']]"
   ]
  },
  {
   "cell_type": "markdown",
   "metadata": {
    "colab_type": "text",
    "id": "g63CT2VbSXcw"
   },
   "source": [
    "**3** Apresentar todas os registros nos quais o IGPM é maior que o IPCA e o CDI"
   ]
  },
  {
   "cell_type": "code",
   "execution_count": 5,
   "metadata": {
    "colab": {
     "base_uri": "https://localhost:8080/",
     "height": 173
    },
    "colab_type": "code",
    "executionInfo": {
     "elapsed": 909,
     "status": "ok",
     "timestamp": 1586710226115,
     "user": {
      "displayName": "Gustavo Favorito Demarchi",
      "photoUrl": "",
      "userId": "01940692939914574708"
     },
     "user_tz": 180
    },
    "id": "u6N-FKVwdeXZ",
    "outputId": "af58b4f7-4790-4f4d-a75e-dbce5791270f"
   },
   "outputs": [
    {
     "data": {
      "text/html": [
       "<div>\n",
       "<style scoped>\n",
       "    .dataframe tbody tr th:only-of-type {\n",
       "        vertical-align: middle;\n",
       "    }\n",
       "\n",
       "    .dataframe tbody tr th {\n",
       "        vertical-align: top;\n",
       "    }\n",
       "\n",
       "    .dataframe thead th {\n",
       "        text-align: right;\n",
       "    }\n",
       "</style>\n",
       "<table border=\"1\" class=\"dataframe\">\n",
       "  <thead>\n",
       "    <tr style=\"text-align: right;\">\n",
       "      <th></th>\n",
       "      <th>IPCA</th>\n",
       "      <th>CDI</th>\n",
       "      <th>IGPM</th>\n",
       "    </tr>\n",
       "  </thead>\n",
       "  <tbody>\n",
       "    <tr>\n",
       "      <th>fev</th>\n",
       "      <td>0.43</td>\n",
       "      <td>0.49</td>\n",
       "      <td>0.88</td>\n",
       "    </tr>\n",
       "    <tr>\n",
       "      <th>mar</th>\n",
       "      <td>0.75</td>\n",
       "      <td>0.47</td>\n",
       "      <td>1.26</td>\n",
       "    </tr>\n",
       "    <tr>\n",
       "      <th>abr</th>\n",
       "      <td>0.57</td>\n",
       "      <td>0.52</td>\n",
       "      <td>0.92</td>\n",
       "    </tr>\n",
       "    <tr>\n",
       "      <th>jun</th>\n",
       "      <td>0.01</td>\n",
       "      <td>0.47</td>\n",
       "      <td>0.80</td>\n",
       "    </tr>\n",
       "  </tbody>\n",
       "</table>\n",
       "</div>"
      ],
      "text/plain": [
       "     IPCA   CDI  IGPM\n",
       "fev  0.43  0.49  0.88\n",
       "mar  0.75  0.47  1.26\n",
       "abr  0.57  0.52  0.92\n",
       "jun  0.01  0.47  0.80"
      ]
     },
     "execution_count": 5,
     "metadata": {},
     "output_type": "execute_result"
    }
   ],
   "source": [
    "# Solução\n",
    "indicadores[(indicadores['IGPM'] > indicadores['IPCA']) & (indicadores['IGPM'] > indicadores['CDI'])]"
   ]
  },
  {
   "cell_type": "markdown",
   "metadata": {
    "colab_type": "text",
    "id": "EzdD84KvViBI"
   },
   "source": [
    "**4** Apresentar o IPCA nos meses nos quais o IGPM foi negativo"
   ]
  },
  {
   "cell_type": "code",
   "execution_count": 6,
   "metadata": {
    "colab": {
     "base_uri": "https://localhost:8080/",
     "height": 68
    },
    "colab_type": "code",
    "executionInfo": {
     "elapsed": 820,
     "status": "ok",
     "timestamp": 1586710227448,
     "user": {
      "displayName": "Gustavo Favorito Demarchi",
      "photoUrl": "",
      "userId": "01940692939914574708"
     },
     "user_tz": 180
    },
    "id": "E6FCxAOMVtPF",
    "outputId": "b66be526-9baf-4adf-e0b3-665ec04204c7"
   },
   "outputs": [
    {
     "data": {
      "text/plain": [
       "ago    0.11\n",
       "set   -0.04\n",
       "Name: IPCA, dtype: float64"
      ]
     },
     "execution_count": 6,
     "metadata": {},
     "output_type": "execute_result"
    }
   ],
   "source": [
    "# Solução\n",
    "indicadores[indicadores['IGPM'] < 0]['IPCA']"
   ]
  },
  {
   "cell_type": "markdown",
   "metadata": {
    "colab_type": "text",
    "id": "HyD7jL1LPW4W"
   },
   "source": [
    "#### Carregando os dados da aba 2 do arquivo *bec_exel_abas.xlsx*\n"
   ]
  },
  {
   "cell_type": "code",
   "execution_count": null,
   "metadata": {
    "colab": {
     "base_uri": "https://localhost:8080/",
     "height": 204
    },
    "colab_type": "code",
    "executionInfo": {
     "elapsed": 36881,
     "status": "ok",
     "timestamp": 1586710265454,
     "user": {
      "displayName": "Gustavo Favorito Demarchi",
      "photoUrl": "",
      "userId": "01940692939914574708"
     },
     "user_tz": 180
    },
    "id": "jMsygfc7fi_h",
    "outputId": "428bc3d3-4c32-4565-d859-fd0518a8471d"
   },
   "outputs": [],
   "source": [
    "bec_abas = pd.read_excel('dataset/02-DS_BEC_abas.xlsx',\n",
    "                         sheet_name=1)\n",
    "bec_abas.head(5)"
   ]
  },
  {
   "cell_type": "markdown",
   "metadata": {
    "colab_type": "text",
    "id": "HQg8_06OPlMU"
   },
   "source": [
    "**5** Listar os 5 maiores valores negociados em uma licitação a partir do arquivo carregado *bec_excel_abas.xlsx*"
   ]
  },
  {
   "cell_type": "code",
   "execution_count": null,
   "metadata": {
    "colab": {
     "base_uri": "https://localhost:8080/",
     "height": 119
    },
    "colab_type": "code",
    "executionInfo": {
     "elapsed": 876,
     "status": "ok",
     "timestamp": 1586710299890,
     "user": {
      "displayName": "Gustavo Favorito Demarchi",
      "photoUrl": "",
      "userId": "01940692939914574708"
     },
     "user_tz": 180
    },
    "id": "GCaxCNhvb6c6",
    "outputId": "1d28c149-b18c-4754-e0f0-71ddc79b47e6"
   },
   "outputs": [],
   "source": [
    "# Solução\n",
    "bec_abas.nlargest(5, 'Valor Total Negociado em R$')['Valor Total Negociado em R$']"
   ]
  },
  {
   "cell_type": "code",
   "execution_count": null,
   "metadata": {
    "colab": {
     "base_uri": "https://localhost:8080/",
     "height": 258
    },
    "colab_type": "code",
    "executionInfo": {
     "elapsed": 36766,
     "status": "ok",
     "timestamp": 1586710337794,
     "user": {
      "displayName": "Gustavo Favorito Demarchi",
      "photoUrl": "",
      "userId": "01940692939914574708"
     },
     "user_tz": 180
    },
    "id": "3x9qDmadfz83",
    "outputId": "d9be454c-434b-46a6-d9d7-9b364233c435"
   },
   "outputs": [],
   "source": [
    "# dados públicos da BEC para análise \n",
    "df_bec = pd.read_excel('dataset/03-DS_BEC.xlsx', error_bad_lines=False)\n",
    "df_bec = df_bec[['Cód Desc Órgão', 'Mês Ano Encerramento', 'Cod Desc Fornecedor', 'Descrição Procedimento Compra', 'Cod Desc Item', 'Quantidade de Item','Valor Unitário Negociado', 'Valor Total Negociado em R$']]\n",
    "# criando uma nova coluna\n",
    "df_bec['Valor Negociado Mi'] = df_bec['Valor Total Negociado em R$'] / 1000000\n",
    "df_bec.head(4)"
   ]
  },
  {
   "cell_type": "markdown",
   "metadata": {
    "colab_type": "text",
    "id": "-A4cuCqJRKnL"
   },
   "source": [
    "**6** Contar quantos orgãos distintos que efetuaram licitações pela BEC"
   ]
  },
  {
   "cell_type": "code",
   "execution_count": null,
   "metadata": {
    "colab": {
     "base_uri": "https://localhost:8080/",
     "height": 34
    },
    "colab_type": "code",
    "executionInfo": {
     "elapsed": 899,
     "status": "ok",
     "timestamp": 1586709631833,
     "user": {
      "displayName": "Gustavo Favorito Demarchi",
      "photoUrl": "",
      "userId": "01940692939914574708"
     },
     "user_tz": 180
    },
    "id": "nEsRuPMV7t_x",
    "outputId": "d51f6d42-77e0-4f12-ac21-b68849909219"
   },
   "outputs": [],
   "source": [
    "# Solução\n",
    "len(df_bec['Cód Desc Órgão'].unique())"
   ]
  },
  {
   "cell_type": "markdown",
   "metadata": {
    "colab_type": "text",
    "id": "TWSUCUCmROk1"
   },
   "source": [
    "**7** Calcular o total valor total negociado em licitações pelo órgão '20000 - SECRETARIA DA FAZENDA E PLANEJAMENTO'"
   ]
  },
  {
   "cell_type": "code",
   "execution_count": null,
   "metadata": {
    "colab": {
     "base_uri": "https://localhost:8080/",
     "height": 34
    },
    "colab_type": "code",
    "executionInfo": {
     "elapsed": 2139,
     "status": "ok",
     "timestamp": 1586742682841,
     "user": {
      "displayName": "Gustavo Favorito Demarchi",
      "photoUrl": "",
      "userId": "01940692939914574708"
     },
     "user_tz": 180
    },
    "id": "GjuBOAkbj7oV",
    "outputId": "891a17ab-6416-414b-f4a2-4dd7265b4fd1"
   },
   "outputs": [],
   "source": [
    "# Solução\n",
    "df_bec[df_bec['Cód Desc Órgão'] == '20000 - SECRETARIA DA FAZENDA E PLANEJAMENTO']['Valor Negociado Mi'].sum()"
   ]
  },
  {
   "cell_type": "markdown",
   "metadata": {
    "colab_type": "text",
    "id": "JN5l3d7rR52V"
   },
   "source": [
    "**8** Calcular a quantidade de fornecedores de cada órgão distribuídos nos tipos distintos de procedimentos de compra. Listar apenas 6 registros"
   ]
  },
  {
   "cell_type": "code",
   "execution_count": null,
   "metadata": {
    "colab": {
     "base_uri": "https://localhost:8080/",
     "height": 173
    },
    "colab_type": "code",
    "executionInfo": {
     "elapsed": 998,
     "status": "ok",
     "timestamp": 1586710356407,
     "user": {
      "displayName": "Gustavo Favorito Demarchi",
      "photoUrl": "",
      "userId": "01940692939914574708"
     },
     "user_tz": 180
    },
    "id": "wpd_x1j9_XJv",
    "outputId": "eed1fcc6-f1b2-417a-d374-9836651b4864"
   },
   "outputs": [],
   "source": [
    "# Solução\n",
    "df_bec.groupby('Descrição Procedimento Compra')[['Cod Desc Fornecedor']].nunique()"
   ]
  },
  {
   "cell_type": "markdown",
   "metadata": {
    "colab_type": "text",
    "id": "kd5SvLeIR9BV"
   },
   "source": [
    "**9** Calcular o valor mínimo, máximo, média e desvio padrão dos valores unitarios agrupados por fornecedor e código de descrição do item."
   ]
  },
  {
   "cell_type": "code",
   "execution_count": null,
   "metadata": {
    "colab": {
     "base_uri": "https://localhost:8080/",
     "height": 450
    },
    "colab_type": "code",
    "executionInfo": {
     "elapsed": 1009,
     "status": "ok",
     "timestamp": 1586710790366,
     "user": {
      "displayName": "Gustavo Favorito Demarchi",
      "photoUrl": "",
      "userId": "01940692939914574708"
     },
     "user_tz": 180
    },
    "id": "jYZfyGahFILe",
    "outputId": "7b7e8d60-5389-44f7-dd0b-77cddbecf2bc"
   },
   "outputs": [],
   "source": [
    "# Solução\n",
    "df_bec.groupby(['Cod Desc Fornecedor', 'Cod Desc Item'])['Valor Unitário Negociado'].agg(['min', 'max', 'mean', 'std'])"
   ]
  },
  {
   "cell_type": "markdown",
   "metadata": {
    "colab_type": "text",
    "id": "eU3R3dlBSCW4"
   },
   "source": [
    "**10** Calcular o valor total negociado em cada encerramento de mês. O encerramento do mês deve ser apresentado como coluna. Utilizar o total negociado em milhões (Valor Negociado Mi).\n",
    "\n"
   ]
  },
  {
   "cell_type": "code",
   "execution_count": null,
   "metadata": {
    "colab": {
     "base_uri": "https://localhost:8080/",
     "height": 221
    },
    "colab_type": "code",
    "executionInfo": {
     "elapsed": 980,
     "status": "ok",
     "timestamp": 1586711171195,
     "user": {
      "displayName": "Gustavo Favorito Demarchi",
      "photoUrl": "",
      "userId": "01940692939914574708"
     },
     "user_tz": 180
    },
    "id": "rCZJDovFBlxQ",
    "outputId": "54abb8a3-9910-4bf5-89e9-308c1d92e71d"
   },
   "outputs": [],
   "source": [
    "# Solução\n",
    "df_bec.groupby('Mês Ano Encerramento')['Valor Negociado Mi'].sum()"
   ]
  },
  {
   "cell_type": "markdown",
   "metadata": {
    "colab_type": "text",
    "id": "9ZRR1AM2SFzF"
   },
   "source": [
    "**11** Calcular o valor total negociado e quantidade de itens adquiridas em cada encerramento de mês"
   ]
  },
  {
   "cell_type": "code",
   "execution_count": null,
   "metadata": {
    "colab": {
     "base_uri": "https://localhost:8080/",
     "height": 424
    },
    "colab_type": "code",
    "executionInfo": {
     "elapsed": 1014,
     "status": "ok",
     "timestamp": 1586711428477,
     "user": {
      "displayName": "Gustavo Favorito Demarchi",
      "photoUrl": "",
      "userId": "01940692939914574708"
     },
     "user_tz": 180
    },
    "id": "B31TSbGSJUXa",
    "outputId": "d5654af8-f846-4dc1-88c9-5282d71283eb"
   },
   "outputs": [],
   "source": [
    "# Solução\n",
    "df_bec.groupby('Mês Ano Encerramento')['Valor Total Negociado em R$','Quantidade de Item'].sum()"
   ]
  },
  {
   "cell_type": "code",
   "execution_count": null,
   "metadata": {
    "colab": {
     "base_uri": "https://localhost:8080/",
     "height": 269
    },
    "colab_type": "code",
    "executionInfo": {
     "elapsed": 1911,
     "status": "ok",
     "timestamp": 1586711444025,
     "user": {
      "displayName": "Gustavo Favorito Demarchi",
      "photoUrl": "",
      "userId": "01940692939914574708"
     },
     "user_tz": 180
    },
    "id": "58Co7Q8ZSrNA",
    "outputId": "d3e29182-37b4-416d-ee8c-b5db8fba4f17"
   },
   "outputs": [],
   "source": [
    "# recuperação da cotação da VALE3\n",
    "from pandas_datareader import data\n",
    "df_vale3 = data.DataReader('VALE3.SA', start='2010', end='2020', data_source='yahoo')\n",
    "df_vale3.tail()"
   ]
  },
  {
   "cell_type": "markdown",
   "metadata": {
    "colab_type": "text",
    "id": "r5HiA9FmSRYe"
   },
   "source": [
    "**12** Criar uma coluna com o valor da média móvel de 10 períodos da VALE3 baseado no valor de fechamento."
   ]
  },
  {
   "cell_type": "code",
   "execution_count": null,
   "metadata": {
    "colab": {
     "base_uri": "https://localhost:8080/",
     "height": 391
    },
    "colab_type": "code",
    "executionInfo": {
     "elapsed": 998,
     "status": "ok",
     "timestamp": 1586714339282,
     "user": {
      "displayName": "Gustavo Favorito Demarchi",
      "photoUrl": "",
      "userId": "01940692939914574708"
     },
     "user_tz": 180
    },
    "id": "u-dUtWnJQ3IO",
    "outputId": "f2b27312-bd2a-4f42-d012-43c4e01bd475"
   },
   "outputs": [],
   "source": [
    "# Solução\n",
    "media_movel = df_vale3['Close'].rolling(10).mean()\n",
    "media_movel.tail(20)"
   ]
  },
  {
   "cell_type": "markdown",
   "metadata": {
    "colab_type": "text",
    "id": "jaPnqX_HSTF2"
   },
   "source": [
    "**13** Criar uma coluna com o valor do retorno diário da VALE3 baseado no valor de fechamento (Close) \n",
    "\n",
    "*Retorno diário(t) = Close(t) - Close(t-1)*\n",
    "\n",
    "\n",
    "\n",
    "\n"
   ]
  },
  {
   "cell_type": "code",
   "execution_count": null,
   "metadata": {
    "colab": {
     "base_uri": "https://localhost:8080/",
     "height": 357
    },
    "colab_type": "code",
    "executionInfo": {
     "elapsed": 1594,
     "status": "ok",
     "timestamp": 1586742694023,
     "user": {
      "displayName": "Gustavo Favorito Demarchi",
      "photoUrl": "",
      "userId": "01940692939914574708"
     },
     "user_tz": 180
    },
    "id": "SLWLQ8PRPbh_",
    "outputId": "9becaf50-43ef-4721-8a06-5d078842b990"
   },
   "outputs": [],
   "source": [
    "# Solução\n",
    "def calc_valor_diario(x):\n",
    "  list = []\n",
    "\n",
    "  for i in range(1, len(x) - 1):\n",
    "    list.append(x[i] - x[i - 1])\n",
    "\n",
    "  return list\n",
    "\n",
    "valor_diario = calc_valor_diario(df_vale3['Close'])\n",
    "valor_diario[0:20]"
   ]
  }
 ],
 "metadata": {
  "colab": {
   "collapsed_sections": [],
   "name": "Gustavo Favorito Demarchi - Atividade04_USJT_2020_DATAMINING_Pandas.ipynb",
   "provenance": []
  },
  "kernelspec": {
   "display_name": "Python 3",
   "language": "python",
   "name": "python3"
  },
  "language_info": {
   "codemirror_mode": {
    "name": "ipython",
    "version": 3
   },
   "file_extension": ".py",
   "mimetype": "text/x-python",
   "name": "python",
   "nbconvert_exporter": "python",
   "pygments_lexer": "ipython3",
   "version": "3.8.3"
  }
 },
 "nbformat": 4,
 "nbformat_minor": 1
}
