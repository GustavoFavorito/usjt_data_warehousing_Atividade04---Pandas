{
 "cells": [
  {
   "cell_type": "markdown",
   "metadata": {
    "colab_type": "text",
    "id": "ZQ-KG8XSIJxY"
   },
   "source": [
    "![logo_usjt.png](https://www.usjt.br/app/themes/mobister/dist/images/sao-judas-universidade.png)"
   ]
  },
  {
   "cell_type": "markdown",
   "metadata": {
    "colab_type": "text",
    "id": "n14P8A5QzMZ2"
   },
   "source": [
    "# Datawarehousing & Data Mining\n",
    "- **Professor**: Sergio Bonato <antonio.bonato@saojudas.br>"
   ]
  },
  {
   "cell_type": "markdown",
   "metadata": {
    "colab_type": "text",
    "id": "jx7VpamzjRpB"
   },
   "source": [
    "# Atividade04 - Pandas para Análise e Tratamento de Dados\n",
    "\n",
    "**Conteúdo**\n",
    "- Leitura de dados\n",
    "- Filtros\n",
    "- Agregações\n",
    "- Agrupamentos\n",
    "- Pivot Tables\n",
    "- Estatísticas\n",
    "- Séries Temporais"
   ]
  },
  {
   "cell_type": "code",
   "execution_count": 18,
   "metadata": {
    "colab": {},
    "colab_type": "code",
    "id": "AMunmzgFItM4"
   },
   "outputs": [],
   "source": [
    "import pandas as pd\n",
    "# definicao dos dados em listas\n",
    "referencias = ['jan', 'fev', 'mar', 'abr', 'mai', 'jun', 'jul', 'ago', 'set']\n",
    "cdi = [0.54, 0.49, 0.47, 0.52, 0.54, 0.47, 0.57, 0.50, 0.46]\n",
    "ipca = [0.32, 0.43, 0.75, 0.57, 0.13, 0.01, 0.19, 0.11, -0.04]\n",
    "igpm = [0.01, 0.88, 1.26, 0.92, 0.45, 0.80, 0.40, -0.67, -0.01]"
   ]
  },
  {
   "cell_type": "code",
   "execution_count": 19,
   "metadata": {
    "colab": {
     "base_uri": "https://localhost:8080/",
     "height": 328
    },
    "colab_type": "code",
    "executionInfo": {
     "elapsed": 891,
     "status": "ok",
     "timestamp": 1586710219664,
     "user": {
      "displayName": "Gustavo Favorito Demarchi",
      "photoUrl": "",
      "userId": "01940692939914574708"
     },
     "user_tz": 180
    },
    "id": "Wf81jA5eJZNM",
    "outputId": "e02856e5-9ca0-4637-bd09-cc00defecf5c"
   },
   "outputs": [
    {
     "data": {
      "text/html": [
       "<div>\n",
       "<style scoped>\n",
       "    .dataframe tbody tr th:only-of-type {\n",
       "        vertical-align: middle;\n",
       "    }\n",
       "\n",
       "    .dataframe tbody tr th {\n",
       "        vertical-align: top;\n",
       "    }\n",
       "\n",
       "    .dataframe thead th {\n",
       "        text-align: right;\n",
       "    }\n",
       "</style>\n",
       "<table border=\"1\" class=\"dataframe\">\n",
       "  <thead>\n",
       "    <tr style=\"text-align: right;\">\n",
       "      <th></th>\n",
       "      <th>IPCA</th>\n",
       "      <th>CDI</th>\n",
       "      <th>IGPM</th>\n",
       "    </tr>\n",
       "  </thead>\n",
       "  <tbody>\n",
       "    <tr>\n",
       "      <th>jan</th>\n",
       "      <td>0.32</td>\n",
       "      <td>0.54</td>\n",
       "      <td>0.01</td>\n",
       "    </tr>\n",
       "    <tr>\n",
       "      <th>fev</th>\n",
       "      <td>0.43</td>\n",
       "      <td>0.49</td>\n",
       "      <td>0.88</td>\n",
       "    </tr>\n",
       "    <tr>\n",
       "      <th>mar</th>\n",
       "      <td>0.75</td>\n",
       "      <td>0.47</td>\n",
       "      <td>1.26</td>\n",
       "    </tr>\n",
       "    <tr>\n",
       "      <th>abr</th>\n",
       "      <td>0.57</td>\n",
       "      <td>0.52</td>\n",
       "      <td>0.92</td>\n",
       "    </tr>\n",
       "    <tr>\n",
       "      <th>mai</th>\n",
       "      <td>0.13</td>\n",
       "      <td>0.54</td>\n",
       "      <td>0.45</td>\n",
       "    </tr>\n",
       "    <tr>\n",
       "      <th>jun</th>\n",
       "      <td>0.01</td>\n",
       "      <td>0.47</td>\n",
       "      <td>0.80</td>\n",
       "    </tr>\n",
       "    <tr>\n",
       "      <th>jul</th>\n",
       "      <td>0.19</td>\n",
       "      <td>0.57</td>\n",
       "      <td>0.40</td>\n",
       "    </tr>\n",
       "    <tr>\n",
       "      <th>ago</th>\n",
       "      <td>0.11</td>\n",
       "      <td>0.50</td>\n",
       "      <td>-0.67</td>\n",
       "    </tr>\n",
       "    <tr>\n",
       "      <th>set</th>\n",
       "      <td>-0.04</td>\n",
       "      <td>0.46</td>\n",
       "      <td>-0.01</td>\n",
       "    </tr>\n",
       "  </tbody>\n",
       "</table>\n",
       "</div>"
      ],
      "text/plain": [
       "     IPCA   CDI  IGPM\n",
       "jan  0.32  0.54  0.01\n",
       "fev  0.43  0.49  0.88\n",
       "mar  0.75  0.47  1.26\n",
       "abr  0.57  0.52  0.92\n",
       "mai  0.13  0.54  0.45\n",
       "jun  0.01  0.47  0.80\n",
       "jul  0.19  0.57  0.40\n",
       "ago  0.11  0.50 -0.67\n",
       "set -0.04  0.46 -0.01"
      ]
     },
     "execution_count": 19,
     "metadata": {},
     "output_type": "execute_result"
    }
   ],
   "source": [
    "# criação do dataframe e definição do índice\n",
    "indicadores = pd.DataFrame(data={'IPCA': ipca, 'CDI': cdi, 'IGPM': igpm}, index=referencias)\n",
    "indicadores"
   ]
  },
  {
   "cell_type": "markdown",
   "metadata": {
    "colab_type": "text",
    "id": "BbyF0Fl_OE-0"
   },
   "source": [
    "**1** Selecionar o CDI de todos os meses jan, mar, abr, jun, set"
   ]
  },
  {
   "cell_type": "code",
   "execution_count": 20,
   "metadata": {
    "colab": {
     "base_uri": "https://localhost:8080/",
     "height": 204
    },
    "colab_type": "code",
    "executionInfo": {
     "elapsed": 929,
     "status": "ok",
     "timestamp": 1586710223351,
     "user": {
      "displayName": "Gustavo Favorito Demarchi",
      "photoUrl": "",
      "userId": "01940692939914574708"
     },
     "user_tz": 180
    },
    "id": "czm6Y6cZOVG0",
    "outputId": "24e18c63-925f-4c7f-e8e6-9ca007fd5cb4"
   },
   "outputs": [
    {
     "data": {
      "text/html": [
       "<div>\n",
       "<style scoped>\n",
       "    .dataframe tbody tr th:only-of-type {\n",
       "        vertical-align: middle;\n",
       "    }\n",
       "\n",
       "    .dataframe tbody tr th {\n",
       "        vertical-align: top;\n",
       "    }\n",
       "\n",
       "    .dataframe thead th {\n",
       "        text-align: right;\n",
       "    }\n",
       "</style>\n",
       "<table border=\"1\" class=\"dataframe\">\n",
       "  <thead>\n",
       "    <tr style=\"text-align: right;\">\n",
       "      <th></th>\n",
       "      <th>CDI</th>\n",
       "    </tr>\n",
       "  </thead>\n",
       "  <tbody>\n",
       "    <tr>\n",
       "      <th>jan</th>\n",
       "      <td>0.54</td>\n",
       "    </tr>\n",
       "    <tr>\n",
       "      <th>mar</th>\n",
       "      <td>0.47</td>\n",
       "    </tr>\n",
       "    <tr>\n",
       "      <th>abr</th>\n",
       "      <td>0.52</td>\n",
       "    </tr>\n",
       "    <tr>\n",
       "      <th>jun</th>\n",
       "      <td>0.47</td>\n",
       "    </tr>\n",
       "    <tr>\n",
       "      <th>set</th>\n",
       "      <td>0.46</td>\n",
       "    </tr>\n",
       "  </tbody>\n",
       "</table>\n",
       "</div>"
      ],
      "text/plain": [
       "      CDI\n",
       "jan  0.54\n",
       "mar  0.47\n",
       "abr  0.52\n",
       "jun  0.47\n",
       "set  0.46"
      ]
     },
     "execution_count": 20,
     "metadata": {},
     "output_type": "execute_result"
    }
   ],
   "source": [
    "# Solução\n",
    "indicadores.loc[['jan','mar','abr','jun','set'], ['CDI']]"
   ]
  },
  {
   "cell_type": "markdown",
   "metadata": {
    "colab_type": "text",
    "id": "ioV5hswG9ufB"
   },
   "source": [
    "**2** Filtrar todos os registros nos quais o IGP-M é maior que o IPCA"
   ]
  },
  {
   "cell_type": "code",
   "execution_count": 21,
   "metadata": {
    "colab": {
     "base_uri": "https://localhost:8080/",
     "height": 266
    },
    "colab_type": "code",
    "executionInfo": {
     "elapsed": 606,
     "status": "ok",
     "timestamp": 1586710224359,
     "user": {
      "displayName": "Gustavo Favorito Demarchi",
      "photoUrl": "",
      "userId": "01940692939914574708"
     },
     "user_tz": 180
    },
    "id": "bQByEBjkdK2k",
    "outputId": "03b1d268-2925-4067-de93-a5128bcbc6f8"
   },
   "outputs": [
    {
     "data": {
      "text/html": [
       "<div>\n",
       "<style scoped>\n",
       "    .dataframe tbody tr th:only-of-type {\n",
       "        vertical-align: middle;\n",
       "    }\n",
       "\n",
       "    .dataframe tbody tr th {\n",
       "        vertical-align: top;\n",
       "    }\n",
       "\n",
       "    .dataframe thead th {\n",
       "        text-align: right;\n",
       "    }\n",
       "</style>\n",
       "<table border=\"1\" class=\"dataframe\">\n",
       "  <thead>\n",
       "    <tr style=\"text-align: right;\">\n",
       "      <th></th>\n",
       "      <th>IPCA</th>\n",
       "      <th>CDI</th>\n",
       "      <th>IGPM</th>\n",
       "    </tr>\n",
       "  </thead>\n",
       "  <tbody>\n",
       "    <tr>\n",
       "      <th>fev</th>\n",
       "      <td>0.43</td>\n",
       "      <td>0.49</td>\n",
       "      <td>0.88</td>\n",
       "    </tr>\n",
       "    <tr>\n",
       "      <th>mar</th>\n",
       "      <td>0.75</td>\n",
       "      <td>0.47</td>\n",
       "      <td>1.26</td>\n",
       "    </tr>\n",
       "    <tr>\n",
       "      <th>abr</th>\n",
       "      <td>0.57</td>\n",
       "      <td>0.52</td>\n",
       "      <td>0.92</td>\n",
       "    </tr>\n",
       "    <tr>\n",
       "      <th>mai</th>\n",
       "      <td>0.13</td>\n",
       "      <td>0.54</td>\n",
       "      <td>0.45</td>\n",
       "    </tr>\n",
       "    <tr>\n",
       "      <th>jun</th>\n",
       "      <td>0.01</td>\n",
       "      <td>0.47</td>\n",
       "      <td>0.80</td>\n",
       "    </tr>\n",
       "    <tr>\n",
       "      <th>jul</th>\n",
       "      <td>0.19</td>\n",
       "      <td>0.57</td>\n",
       "      <td>0.40</td>\n",
       "    </tr>\n",
       "    <tr>\n",
       "      <th>set</th>\n",
       "      <td>-0.04</td>\n",
       "      <td>0.46</td>\n",
       "      <td>-0.01</td>\n",
       "    </tr>\n",
       "  </tbody>\n",
       "</table>\n",
       "</div>"
      ],
      "text/plain": [
       "     IPCA   CDI  IGPM\n",
       "fev  0.43  0.49  0.88\n",
       "mar  0.75  0.47  1.26\n",
       "abr  0.57  0.52  0.92\n",
       "mai  0.13  0.54  0.45\n",
       "jun  0.01  0.47  0.80\n",
       "jul  0.19  0.57  0.40\n",
       "set -0.04  0.46 -0.01"
      ]
     },
     "execution_count": 21,
     "metadata": {},
     "output_type": "execute_result"
    }
   ],
   "source": [
    "# Solução\n",
    "indicadores[indicadores['IGPM'] > indicadores['IPCA']]"
   ]
  },
  {
   "cell_type": "markdown",
   "metadata": {
    "colab_type": "text",
    "id": "g63CT2VbSXcw"
   },
   "source": [
    "**3** Apresentar todas os registros nos quais o IGPM é maior que o IPCA e o CDI"
   ]
  },
  {
   "cell_type": "code",
   "execution_count": 22,
   "metadata": {
    "colab": {
     "base_uri": "https://localhost:8080/",
     "height": 173
    },
    "colab_type": "code",
    "executionInfo": {
     "elapsed": 909,
     "status": "ok",
     "timestamp": 1586710226115,
     "user": {
      "displayName": "Gustavo Favorito Demarchi",
      "photoUrl": "",
      "userId": "01940692939914574708"
     },
     "user_tz": 180
    },
    "id": "u6N-FKVwdeXZ",
    "outputId": "af58b4f7-4790-4f4d-a75e-dbce5791270f"
   },
   "outputs": [
    {
     "data": {
      "text/html": [
       "<div>\n",
       "<style scoped>\n",
       "    .dataframe tbody tr th:only-of-type {\n",
       "        vertical-align: middle;\n",
       "    }\n",
       "\n",
       "    .dataframe tbody tr th {\n",
       "        vertical-align: top;\n",
       "    }\n",
       "\n",
       "    .dataframe thead th {\n",
       "        text-align: right;\n",
       "    }\n",
       "</style>\n",
       "<table border=\"1\" class=\"dataframe\">\n",
       "  <thead>\n",
       "    <tr style=\"text-align: right;\">\n",
       "      <th></th>\n",
       "      <th>IPCA</th>\n",
       "      <th>CDI</th>\n",
       "      <th>IGPM</th>\n",
       "    </tr>\n",
       "  </thead>\n",
       "  <tbody>\n",
       "    <tr>\n",
       "      <th>fev</th>\n",
       "      <td>0.43</td>\n",
       "      <td>0.49</td>\n",
       "      <td>0.88</td>\n",
       "    </tr>\n",
       "    <tr>\n",
       "      <th>mar</th>\n",
       "      <td>0.75</td>\n",
       "      <td>0.47</td>\n",
       "      <td>1.26</td>\n",
       "    </tr>\n",
       "    <tr>\n",
       "      <th>abr</th>\n",
       "      <td>0.57</td>\n",
       "      <td>0.52</td>\n",
       "      <td>0.92</td>\n",
       "    </tr>\n",
       "    <tr>\n",
       "      <th>jun</th>\n",
       "      <td>0.01</td>\n",
       "      <td>0.47</td>\n",
       "      <td>0.80</td>\n",
       "    </tr>\n",
       "  </tbody>\n",
       "</table>\n",
       "</div>"
      ],
      "text/plain": [
       "     IPCA   CDI  IGPM\n",
       "fev  0.43  0.49  0.88\n",
       "mar  0.75  0.47  1.26\n",
       "abr  0.57  0.52  0.92\n",
       "jun  0.01  0.47  0.80"
      ]
     },
     "execution_count": 22,
     "metadata": {},
     "output_type": "execute_result"
    }
   ],
   "source": [
    "# Solução\n",
    "indicadores[(indicadores['IGPM'] > indicadores['IPCA']) & (indicadores['IGPM'] > indicadores['CDI'])]"
   ]
  },
  {
   "cell_type": "markdown",
   "metadata": {
    "colab_type": "text",
    "id": "EzdD84KvViBI"
   },
   "source": [
    "**4** Apresentar o IPCA nos meses nos quais o IGPM foi negativo"
   ]
  },
  {
   "cell_type": "code",
   "execution_count": 23,
   "metadata": {
    "colab": {
     "base_uri": "https://localhost:8080/",
     "height": 68
    },
    "colab_type": "code",
    "executionInfo": {
     "elapsed": 820,
     "status": "ok",
     "timestamp": 1586710227448,
     "user": {
      "displayName": "Gustavo Favorito Demarchi",
      "photoUrl": "",
      "userId": "01940692939914574708"
     },
     "user_tz": 180
    },
    "id": "E6FCxAOMVtPF",
    "outputId": "b66be526-9baf-4adf-e0b3-665ec04204c7"
   },
   "outputs": [
    {
     "data": {
      "text/plain": [
       "ago    0.11\n",
       "set   -0.04\n",
       "Name: IPCA, dtype: float64"
      ]
     },
     "execution_count": 23,
     "metadata": {},
     "output_type": "execute_result"
    }
   ],
   "source": [
    "# Solução\n",
    "indicadores[indicadores['IGPM'] < 0]['IPCA']"
   ]
  },
  {
   "cell_type": "markdown",
   "metadata": {
    "colab_type": "text",
    "id": "HyD7jL1LPW4W"
   },
   "source": [
    "#### Carregando os dados da aba 2 do arquivo *bec_exel_abas.xlsx*\n"
   ]
  },
  {
   "cell_type": "code",
   "execution_count": 24,
   "metadata": {
    "colab": {
     "base_uri": "https://localhost:8080/",
     "height": 204
    },
    "colab_type": "code",
    "executionInfo": {
     "elapsed": 36881,
     "status": "ok",
     "timestamp": 1586710265454,
     "user": {
      "displayName": "Gustavo Favorito Demarchi",
      "photoUrl": "",
      "userId": "01940692939914574708"
     },
     "user_tz": 180
    },
    "id": "jMsygfc7fi_h",
    "outputId": "428bc3d3-4c32-4565-d859-fd0518a8471d"
   },
   "outputs": [
    {
     "data": {
      "text/html": [
       "<div>\n",
       "<style scoped>\n",
       "    .dataframe tbody tr th:only-of-type {\n",
       "        vertical-align: middle;\n",
       "    }\n",
       "\n",
       "    .dataframe tbody tr th {\n",
       "        vertical-align: top;\n",
       "    }\n",
       "\n",
       "    .dataframe thead th {\n",
       "        text-align: right;\n",
       "    }\n",
       "</style>\n",
       "<table border=\"1\" class=\"dataframe\">\n",
       "  <thead>\n",
       "    <tr style=\"text-align: right;\">\n",
       "      <th></th>\n",
       "      <th>Cód Desc Órgão</th>\n",
       "      <th>Mês Ano Encerramento</th>\n",
       "      <th>Valor Total Negociado em R$</th>\n",
       "      <th>Descrição Procedimento Compra</th>\n",
       "      <th>Código e Descrição Técnica do Grupo</th>\n",
       "    </tr>\n",
       "  </thead>\n",
       "  <tbody>\n",
       "    <tr>\n",
       "      <th>0</th>\n",
       "      <td>01000 - ASSEMBLEIA LEGISLATIVA</td>\n",
       "      <td>2019-09-01</td>\n",
       "      <td>673.2</td>\n",
       "      <td>DISPENSA DE LICITAÇÃO</td>\n",
       "      <td>36 - MAQUINAS E EQUIPAMENTOS PARA INDUSTRIAS E...</td>\n",
       "    </tr>\n",
       "    <tr>\n",
       "      <th>1</th>\n",
       "      <td>01000 - ASSEMBLEIA LEGISLATIVA</td>\n",
       "      <td>2019-09-01</td>\n",
       "      <td>1880.0</td>\n",
       "      <td>DISPENSA DE LICITAÇÃO</td>\n",
       "      <td>71 - MOBILIARIOS EM GERAL</td>\n",
       "    </tr>\n",
       "    <tr>\n",
       "      <th>2</th>\n",
       "      <td>01000 - ASSEMBLEIA LEGISLATIVA</td>\n",
       "      <td>2019-09-01</td>\n",
       "      <td>340.0</td>\n",
       "      <td>DISPENSA DE LICITAÇÃO</td>\n",
       "      <td>83 - TECIDOS, COUROS, PELES, AVIAMENTOS, BARRA...</td>\n",
       "    </tr>\n",
       "    <tr>\n",
       "      <th>3</th>\n",
       "      <td>01000 - ASSEMBLEIA LEGISLATIVA</td>\n",
       "      <td>2019-09-01</td>\n",
       "      <td>1104.0</td>\n",
       "      <td>DISPENSA DE LICITAÇÃO</td>\n",
       "      <td>86 - INFORMATICA</td>\n",
       "    </tr>\n",
       "    <tr>\n",
       "      <th>4</th>\n",
       "      <td>01000 - ASSEMBLEIA LEGISLATIVA</td>\n",
       "      <td>2019-09-01</td>\n",
       "      <td>1090.0</td>\n",
       "      <td>DISPENSA DE LICITAÇÃO</td>\n",
       "      <td>89 - GENEROS ALIMENTICIOS</td>\n",
       "    </tr>\n",
       "  </tbody>\n",
       "</table>\n",
       "</div>"
      ],
      "text/plain": [
       "                   Cód Desc Órgão Mês Ano Encerramento  \\\n",
       "0  01000 - ASSEMBLEIA LEGISLATIVA           2019-09-01   \n",
       "1  01000 - ASSEMBLEIA LEGISLATIVA           2019-09-01   \n",
       "2  01000 - ASSEMBLEIA LEGISLATIVA           2019-09-01   \n",
       "3  01000 - ASSEMBLEIA LEGISLATIVA           2019-09-01   \n",
       "4  01000 - ASSEMBLEIA LEGISLATIVA           2019-09-01   \n",
       "\n",
       "   Valor Total Negociado em R$ Descrição Procedimento Compra  \\\n",
       "0                        673.2         DISPENSA DE LICITAÇÃO   \n",
       "1                       1880.0         DISPENSA DE LICITAÇÃO   \n",
       "2                        340.0         DISPENSA DE LICITAÇÃO   \n",
       "3                       1104.0         DISPENSA DE LICITAÇÃO   \n",
       "4                       1090.0         DISPENSA DE LICITAÇÃO   \n",
       "\n",
       "                 Código e Descrição Técnica do Grupo  \n",
       "0  36 - MAQUINAS E EQUIPAMENTOS PARA INDUSTRIAS E...  \n",
       "1                          71 - MOBILIARIOS EM GERAL  \n",
       "2  83 - TECIDOS, COUROS, PELES, AVIAMENTOS, BARRA...  \n",
       "3                                   86 - INFORMATICA  \n",
       "4                          89 - GENEROS ALIMENTICIOS  "
      ]
     },
     "execution_count": 24,
     "metadata": {},
     "output_type": "execute_result"
    }
   ],
   "source": [
    "bec_abas = pd.read_excel('dataset/02-DS_BEC_abas.xlsx',\n",
    "                         sheet_name=1)\n",
    "bec_abas.head(5)"
   ]
  },
  {
   "cell_type": "markdown",
   "metadata": {
    "colab_type": "text",
    "id": "HQg8_06OPlMU"
   },
   "source": [
    "**5** Listar os 5 maiores valores negociados em uma licitação a partir do arquivo carregado *bec_excel_abas.xlsx*"
   ]
  },
  {
   "cell_type": "code",
   "execution_count": 25,
   "metadata": {
    "colab": {
     "base_uri": "https://localhost:8080/",
     "height": 119
    },
    "colab_type": "code",
    "executionInfo": {
     "elapsed": 876,
     "status": "ok",
     "timestamp": 1586710299890,
     "user": {
      "displayName": "Gustavo Favorito Demarchi",
      "photoUrl": "",
      "userId": "01940692939914574708"
     },
     "user_tz": 180
    },
    "id": "GCaxCNhvb6c6",
    "outputId": "1d28c149-b18c-4754-e0f0-71ddc79b47e6"
   },
   "outputs": [
    {
     "data": {
      "text/plain": [
       "180438    4.288788e+08\n",
       "178928    2.562134e+08\n",
       "172107    1.390729e+08\n",
       "139558    9.663800e+07\n",
       "180594    9.256481e+07\n",
       "Name: Valor Total Negociado em R$, dtype: float64"
      ]
     },
     "execution_count": 25,
     "metadata": {},
     "output_type": "execute_result"
    }
   ],
   "source": [
    "# Solução\n",
    "bec_abas.nlargest(5, 'Valor Total Negociado em R$')['Valor Total Negociado em R$']"
   ]
  },
  {
   "cell_type": "code",
   "execution_count": 26,
   "metadata": {
    "colab": {
     "base_uri": "https://localhost:8080/",
     "height": 258
    },
    "colab_type": "code",
    "executionInfo": {
     "elapsed": 36766,
     "status": "ok",
     "timestamp": 1586710337794,
     "user": {
      "displayName": "Gustavo Favorito Demarchi",
      "photoUrl": "",
      "userId": "01940692939914574708"
     },
     "user_tz": 180
    },
    "id": "3x9qDmadfz83",
    "outputId": "d9be454c-434b-46a6-d9d7-9b364233c435"
   },
   "outputs": [
    {
     "data": {
      "text/html": [
       "<div>\n",
       "<style scoped>\n",
       "    .dataframe tbody tr th:only-of-type {\n",
       "        vertical-align: middle;\n",
       "    }\n",
       "\n",
       "    .dataframe tbody tr th {\n",
       "        vertical-align: top;\n",
       "    }\n",
       "\n",
       "    .dataframe thead th {\n",
       "        text-align: right;\n",
       "    }\n",
       "</style>\n",
       "<table border=\"1\" class=\"dataframe\">\n",
       "  <thead>\n",
       "    <tr style=\"text-align: right;\">\n",
       "      <th></th>\n",
       "      <th>Cód Desc Órgão</th>\n",
       "      <th>Mês Ano Encerramento</th>\n",
       "      <th>Cod Desc Fornecedor</th>\n",
       "      <th>Descrição Procedimento Compra</th>\n",
       "      <th>Cod Desc Item</th>\n",
       "      <th>Quantidade de Item</th>\n",
       "      <th>Valor Unitário Negociado</th>\n",
       "      <th>Valor Total Negociado em R$</th>\n",
       "      <th>Valor Negociado Mi</th>\n",
       "    </tr>\n",
       "  </thead>\n",
       "  <tbody>\n",
       "    <tr>\n",
       "      <th>0</th>\n",
       "      <td>01000 - ASSEMBLEIA LEGISLATIVA</td>\n",
       "      <td>2019-09-01</td>\n",
       "      <td>28363983000140 - OFICIAL WEB COMERCIAL LTDA - ME</td>\n",
       "      <td>DISPENSA DE LICITAÇÃO</td>\n",
       "      <td>4843274 - FILME PROTETIVO, DE POLIESTER, 1,00X...</td>\n",
       "      <td>1</td>\n",
       "      <td>168.3</td>\n",
       "      <td>673.2</td>\n",
       "      <td>0.000673</td>\n",
       "    </tr>\n",
       "    <tr>\n",
       "      <th>1</th>\n",
       "      <td>01000 - ASSEMBLEIA LEGISLATIVA</td>\n",
       "      <td>2019-09-01</td>\n",
       "      <td>12517378000146 - A. C. DOS SANTOS MÓVEIS ME</td>\n",
       "      <td>DISPENSA DE LICITAÇÃO</td>\n",
       "      <td>4863801 - ESTANTE DESMONTAVEL DE ACO,ABERTA,06...</td>\n",
       "      <td>1</td>\n",
       "      <td>235.0</td>\n",
       "      <td>1880.0</td>\n",
       "      <td>0.001880</td>\n",
       "    </tr>\n",
       "    <tr>\n",
       "      <th>2</th>\n",
       "      <td>01000 - ASSEMBLEIA LEGISLATIVA</td>\n",
       "      <td>2019-09-01</td>\n",
       "      <td>17365274000187 - CBF COMÉRCIO DE CONFECÇÕES BA...</td>\n",
       "      <td>DISPENSA DE LICITAÇÃO</td>\n",
       "      <td>4628020 - BANDEIRA,MUNICIPIO DE SAO PAULO, MED...</td>\n",
       "      <td>1</td>\n",
       "      <td>170.0</td>\n",
       "      <td>340.0</td>\n",
       "      <td>0.000340</td>\n",
       "    </tr>\n",
       "    <tr>\n",
       "      <th>3</th>\n",
       "      <td>01000 - ASSEMBLEIA LEGISLATIVA</td>\n",
       "      <td>2019-09-01</td>\n",
       "      <td>23183671000130 - GALEQ COMÉRCIO INTERNACIONAL ...</td>\n",
       "      <td>DISPENSA DE LICITAÇÃO</td>\n",
       "      <td>5133017 - NO-BREAK, 600 VA</td>\n",
       "      <td>1</td>\n",
       "      <td>27.6</td>\n",
       "      <td>1104.0</td>\n",
       "      <td>0.001104</td>\n",
       "    </tr>\n",
       "  </tbody>\n",
       "</table>\n",
       "</div>"
      ],
      "text/plain": [
       "                   Cód Desc Órgão Mês Ano Encerramento  \\\n",
       "0  01000 - ASSEMBLEIA LEGISLATIVA           2019-09-01   \n",
       "1  01000 - ASSEMBLEIA LEGISLATIVA           2019-09-01   \n",
       "2  01000 - ASSEMBLEIA LEGISLATIVA           2019-09-01   \n",
       "3  01000 - ASSEMBLEIA LEGISLATIVA           2019-09-01   \n",
       "\n",
       "                                 Cod Desc Fornecedor  \\\n",
       "0   28363983000140 - OFICIAL WEB COMERCIAL LTDA - ME   \n",
       "1        12517378000146 - A. C. DOS SANTOS MÓVEIS ME   \n",
       "2  17365274000187 - CBF COMÉRCIO DE CONFECÇÕES BA...   \n",
       "3  23183671000130 - GALEQ COMÉRCIO INTERNACIONAL ...   \n",
       "\n",
       "  Descrição Procedimento Compra  \\\n",
       "0         DISPENSA DE LICITAÇÃO   \n",
       "1         DISPENSA DE LICITAÇÃO   \n",
       "2         DISPENSA DE LICITAÇÃO   \n",
       "3         DISPENSA DE LICITAÇÃO   \n",
       "\n",
       "                                       Cod Desc Item  Quantidade de Item  \\\n",
       "0  4843274 - FILME PROTETIVO, DE POLIESTER, 1,00X...                   1   \n",
       "1  4863801 - ESTANTE DESMONTAVEL DE ACO,ABERTA,06...                   1   \n",
       "2  4628020 - BANDEIRA,MUNICIPIO DE SAO PAULO, MED...                   1   \n",
       "3                         5133017 - NO-BREAK, 600 VA                   1   \n",
       "\n",
       "   Valor Unitário Negociado  Valor Total Negociado em R$  Valor Negociado Mi  \n",
       "0                     168.3                        673.2            0.000673  \n",
       "1                     235.0                       1880.0            0.001880  \n",
       "2                     170.0                        340.0            0.000340  \n",
       "3                      27.6                       1104.0            0.001104  "
      ]
     },
     "execution_count": 26,
     "metadata": {},
     "output_type": "execute_result"
    }
   ],
   "source": [
    "# dados públicos da BEC para análise \n",
    "df_bec = pd.read_excel('dataset/03-DS_BEC.xlsx', error_bad_lines=False)\n",
    "df_bec = df_bec[['Cód Desc Órgão', 'Mês Ano Encerramento', 'Cod Desc Fornecedor', 'Descrição Procedimento Compra', 'Cod Desc Item', 'Quantidade de Item','Valor Unitário Negociado', 'Valor Total Negociado em R$']]\n",
    "# criando uma nova coluna\n",
    "df_bec['Valor Negociado Mi'] = df_bec['Valor Total Negociado em R$'] / 1000000\n",
    "df_bec.head(4)"
   ]
  },
  {
   "cell_type": "markdown",
   "metadata": {
    "colab_type": "text",
    "id": "-A4cuCqJRKnL"
   },
   "source": [
    "**6** Contar quantos orgãos distintos que efetuaram licitações pela BEC"
   ]
  },
  {
   "cell_type": "code",
   "execution_count": 27,
   "metadata": {
    "colab": {
     "base_uri": "https://localhost:8080/",
     "height": 34
    },
    "colab_type": "code",
    "executionInfo": {
     "elapsed": 899,
     "status": "ok",
     "timestamp": 1586709631833,
     "user": {
      "displayName": "Gustavo Favorito Demarchi",
      "photoUrl": "",
      "userId": "01940692939914574708"
     },
     "user_tz": 180
    },
    "id": "nEsRuPMV7t_x",
    "outputId": "d51f6d42-77e0-4f12-ac21-b68849909219"
   },
   "outputs": [
    {
     "data": {
      "text/plain": [
       "29"
      ]
     },
     "execution_count": 27,
     "metadata": {},
     "output_type": "execute_result"
    }
   ],
   "source": [
    "# Solução\n",
    "len(df_bec['Cód Desc Órgão'].unique())"
   ]
  },
  {
   "cell_type": "markdown",
   "metadata": {
    "colab_type": "text",
    "id": "TWSUCUCmROk1"
   },
   "source": [
    "**7** Calcular o total valor total negociado em licitações pelo órgão '20000 - SECRETARIA DA FAZENDA E PLANEJAMENTO'"
   ]
  },
  {
   "cell_type": "code",
   "execution_count": 28,
   "metadata": {
    "colab": {
     "base_uri": "https://localhost:8080/",
     "height": 34
    },
    "colab_type": "code",
    "executionInfo": {
     "elapsed": 2139,
     "status": "ok",
     "timestamp": 1586742682841,
     "user": {
      "displayName": "Gustavo Favorito Demarchi",
      "photoUrl": "",
      "userId": "01940692939914574708"
     },
     "user_tz": 180
    },
    "id": "GjuBOAkbj7oV",
    "outputId": "891a17ab-6416-414b-f4a2-4dd7265b4fd1"
   },
   "outputs": [
    {
     "data": {
      "text/plain": [
       "44.46666314419999"
      ]
     },
     "execution_count": 28,
     "metadata": {},
     "output_type": "execute_result"
    }
   ],
   "source": [
    "# Solução\n",
    "df_bec[df_bec['Cód Desc Órgão'] == '20000 - SECRETARIA DA FAZENDA E PLANEJAMENTO']['Valor Negociado Mi'].sum()"
   ]
  },
  {
   "cell_type": "markdown",
   "metadata": {
    "colab_type": "text",
    "id": "JN5l3d7rR52V"
   },
   "source": [
    "**8** Calcular a quantidade de fornecedores de cada órgão distribuídos nos tipos distintos de procedimentos de compra. Listar apenas 6 registros"
   ]
  },
  {
   "cell_type": "code",
   "execution_count": 29,
   "metadata": {
    "colab": {
     "base_uri": "https://localhost:8080/",
     "height": 173
    },
    "colab_type": "code",
    "executionInfo": {
     "elapsed": 998,
     "status": "ok",
     "timestamp": 1586710356407,
     "user": {
      "displayName": "Gustavo Favorito Demarchi",
      "photoUrl": "",
      "userId": "01940692939914574708"
     },
     "user_tz": 180
    },
    "id": "wpd_x1j9_XJv",
    "outputId": "eed1fcc6-f1b2-417a-d374-9836651b4864"
   },
   "outputs": [
    {
     "data": {
      "text/html": [
       "<div>\n",
       "<style scoped>\n",
       "    .dataframe tbody tr th:only-of-type {\n",
       "        vertical-align: middle;\n",
       "    }\n",
       "\n",
       "    .dataframe tbody tr th {\n",
       "        vertical-align: top;\n",
       "    }\n",
       "\n",
       "    .dataframe thead th {\n",
       "        text-align: right;\n",
       "    }\n",
       "</style>\n",
       "<table border=\"1\" class=\"dataframe\">\n",
       "  <thead>\n",
       "    <tr style=\"text-align: right;\">\n",
       "      <th></th>\n",
       "      <th>Cod Desc Fornecedor</th>\n",
       "    </tr>\n",
       "    <tr>\n",
       "      <th>Descrição Procedimento Compra</th>\n",
       "      <th></th>\n",
       "    </tr>\n",
       "  </thead>\n",
       "  <tbody>\n",
       "    <tr>\n",
       "      <th>CONVITE</th>\n",
       "      <td>2177</td>\n",
       "    </tr>\n",
       "    <tr>\n",
       "      <th>DISPENSA DE LICITAÇÃO</th>\n",
       "      <td>1006</td>\n",
       "    </tr>\n",
       "    <tr>\n",
       "      <th>PREGÃO ELETRÔNICO</th>\n",
       "      <td>4611</td>\n",
       "    </tr>\n",
       "  </tbody>\n",
       "</table>\n",
       "</div>"
      ],
      "text/plain": [
       "                               Cod Desc Fornecedor\n",
       "Descrição Procedimento Compra                     \n",
       "CONVITE                                       2177\n",
       "DISPENSA DE LICITAÇÃO                         1006\n",
       "PREGÃO ELETRÔNICO                             4611"
      ]
     },
     "execution_count": 29,
     "metadata": {},
     "output_type": "execute_result"
    }
   ],
   "source": [
    "# Solução\n",
    "df_bec.groupby('Descrição Procedimento Compra')[['Cod Desc Fornecedor']].nunique()"
   ]
  },
  {
   "cell_type": "markdown",
   "metadata": {
    "colab_type": "text",
    "id": "kd5SvLeIR9BV"
   },
   "source": [
    "**9** Calcular o valor mínimo, máximo, média e desvio padrão dos valores unitarios agrupados por fornecedor e código de descrição do item."
   ]
  },
  {
   "cell_type": "code",
   "execution_count": 30,
   "metadata": {
    "colab": {
     "base_uri": "https://localhost:8080/",
     "height": 450
    },
    "colab_type": "code",
    "executionInfo": {
     "elapsed": 1009,
     "status": "ok",
     "timestamp": 1586710790366,
     "user": {
      "displayName": "Gustavo Favorito Demarchi",
      "photoUrl": "",
      "userId": "01940692939914574708"
     },
     "user_tz": 180
    },
    "id": "jYZfyGahFILe",
    "outputId": "7b7e8d60-5389-44f7-dd0b-77cddbecf2bc"
   },
   "outputs": [
    {
     "data": {
      "text/html": [
       "<div>\n",
       "<style scoped>\n",
       "    .dataframe tbody tr th:only-of-type {\n",
       "        vertical-align: middle;\n",
       "    }\n",
       "\n",
       "    .dataframe tbody tr th {\n",
       "        vertical-align: top;\n",
       "    }\n",
       "\n",
       "    .dataframe thead th {\n",
       "        text-align: right;\n",
       "    }\n",
       "</style>\n",
       "<table border=\"1\" class=\"dataframe\">\n",
       "  <thead>\n",
       "    <tr style=\"text-align: right;\">\n",
       "      <th></th>\n",
       "      <th></th>\n",
       "      <th>min</th>\n",
       "      <th>max</th>\n",
       "      <th>mean</th>\n",
       "      <th>std</th>\n",
       "    </tr>\n",
       "    <tr>\n",
       "      <th>Cod Desc Fornecedor</th>\n",
       "      <th>Cod Desc Item</th>\n",
       "      <th></th>\n",
       "      <th></th>\n",
       "      <th></th>\n",
       "      <th></th>\n",
       "    </tr>\n",
       "  </thead>\n",
       "  <tbody>\n",
       "    <tr>\n",
       "      <th>00000028000129 - TARGET ENGENHARIA E CONSULTORIA LTDA.</th>\n",
       "      <th>187844 - HOSPEDAGEM DE SERVIDORES</th>\n",
       "      <td>256700.00</td>\n",
       "      <td>256700.00</td>\n",
       "      <td>256700.000000</td>\n",
       "      <td>NaN</td>\n",
       "    </tr>\n",
       "    <tr>\n",
       "      <th rowspan=\"4\" valign=\"top\">00002314000123 - ELETRO SOLDAS COMERCIAL LTDA - ME</th>\n",
       "      <th>2133946 - SOLDA DE ACO CARBONO,TIPO ARAME,0,8MM</th>\n",
       "      <td>228.75</td>\n",
       "      <td>228.75</td>\n",
       "      <td>228.750000</td>\n",
       "      <td>NaN</td>\n",
       "    </tr>\n",
       "    <tr>\n",
       "      <th>2982315 - ACETILENO COMUM PARA SOLDA, CILINDRO ENTRE 5 E 10 KG</th>\n",
       "      <td>49.80</td>\n",
       "      <td>49.80</td>\n",
       "      <td>49.800000</td>\n",
       "      <td>NaN</td>\n",
       "    </tr>\n",
       "    <tr>\n",
       "      <th>3090582 - GAS ESPECIAL COMPOSTO POR 75% DE ARGONIO E 25% DE CO2</th>\n",
       "      <td>34.50</td>\n",
       "      <td>398.00</td>\n",
       "      <td>219.442857</td>\n",
       "      <td>171.543074</td>\n",
       "    </tr>\n",
       "    <tr>\n",
       "      <th>3811980 - OXIGENIO, TIPO COMUM, PARA SOLDA, CILINDRO DE 10M3</th>\n",
       "      <td>143.00</td>\n",
       "      <td>143.00</td>\n",
       "      <td>143.000000</td>\n",
       "      <td>NaN</td>\n",
       "    </tr>\n",
       "    <tr>\n",
       "      <th>...</th>\n",
       "      <th>...</th>\n",
       "      <td>...</td>\n",
       "      <td>...</td>\n",
       "      <td>...</td>\n",
       "      <td>...</td>\n",
       "    </tr>\n",
       "    <tr>\n",
       "      <th rowspan=\"5\" valign=\"top\">97520092000172 - ENDO MEDICAL IMPORTACAO E EXPORTACAO COMERCIAL LTDA</th>\n",
       "      <th>3972658 - PROTESE PENIANA EM ELASTOMERO DE SILICONE COM DIAMETRO DE 9 A 13 MM</th>\n",
       "      <td>1300.00</td>\n",
       "      <td>1300.00</td>\n",
       "      <td>1300.000000</td>\n",
       "      <td>NaN</td>\n",
       "    </tr>\n",
       "    <tr>\n",
       "      <th>3972674 - PROTESE TESTICULAR EM GEL DE SILICONE, LARGURA DE 3 A 4,5 CM</th>\n",
       "      <td>580.00</td>\n",
       "      <td>580.00</td>\n",
       "      <td>580.000000</td>\n",
       "      <td>NaN</td>\n",
       "    </tr>\n",
       "    <tr>\n",
       "      <th>5344522 - PROTESE TESTICULAR</th>\n",
       "      <td>685.50</td>\n",
       "      <td>685.50</td>\n",
       "      <td>685.500000</td>\n",
       "      <td>NaN</td>\n",
       "    </tr>\n",
       "    <tr>\n",
       "      <th>697001 - PROTESE P/TESTICULO,SILICONE,(TAM.GRANDE)</th>\n",
       "      <td>685.50</td>\n",
       "      <td>685.50</td>\n",
       "      <td>685.500000</td>\n",
       "      <td>NaN</td>\n",
       "    </tr>\n",
       "    <tr>\n",
       "      <th>771082 - GRAMPEADOR CIRURGICO LINEAR CORTANTE 77 MM DE SUTURA E 73 MM DE CORTE</th>\n",
       "      <td>500.00</td>\n",
       "      <td>500.00</td>\n",
       "      <td>500.000000</td>\n",
       "      <td>NaN</td>\n",
       "    </tr>\n",
       "  </tbody>\n",
       "</table>\n",
       "<p>107821 rows × 4 columns</p>\n",
       "</div>"
      ],
      "text/plain": [
       "                                                                                                             min  \\\n",
       "Cod Desc Fornecedor                                Cod Desc Item                                                   \n",
       "00000028000129 - TARGET ENGENHARIA E CONSULTORI... 187844 - HOSPEDAGEM DE SERVIDORES                   256700.00   \n",
       "00002314000123 - ELETRO SOLDAS COMERCIAL LTDA - ME 2133946 - SOLDA DE ACO CARBONO,TIPO ARAME,0,8MM        228.75   \n",
       "                                                   2982315 - ACETILENO COMUM PARA SOLDA, CILINDRO ...      49.80   \n",
       "                                                   3090582 - GAS ESPECIAL COMPOSTO POR 75% DE ARGO...      34.50   \n",
       "                                                   3811980 - OXIGENIO, TIPO COMUM, PARA SOLDA, CIL...     143.00   \n",
       "...                                                                                                          ...   \n",
       "97520092000172 - ENDO MEDICAL IMPORTACAO E EXPO... 3972658 - PROTESE PENIANA EM ELASTOMERO DE SILI...    1300.00   \n",
       "                                                   3972674 - PROTESE TESTICULAR EM GEL DE SILICONE...     580.00   \n",
       "                                                   5344522 - PROTESE TESTICULAR                           685.50   \n",
       "                                                   697001 - PROTESE P/TESTICULO,SILICONE,(TAM.GRANDE)     685.50   \n",
       "                                                   771082 - GRAMPEADOR CIRURGICO LINEAR CORTANTE 7...     500.00   \n",
       "\n",
       "                                                                                                             max  \\\n",
       "Cod Desc Fornecedor                                Cod Desc Item                                                   \n",
       "00000028000129 - TARGET ENGENHARIA E CONSULTORI... 187844 - HOSPEDAGEM DE SERVIDORES                   256700.00   \n",
       "00002314000123 - ELETRO SOLDAS COMERCIAL LTDA - ME 2133946 - SOLDA DE ACO CARBONO,TIPO ARAME,0,8MM        228.75   \n",
       "                                                   2982315 - ACETILENO COMUM PARA SOLDA, CILINDRO ...      49.80   \n",
       "                                                   3090582 - GAS ESPECIAL COMPOSTO POR 75% DE ARGO...     398.00   \n",
       "                                                   3811980 - OXIGENIO, TIPO COMUM, PARA SOLDA, CIL...     143.00   \n",
       "...                                                                                                          ...   \n",
       "97520092000172 - ENDO MEDICAL IMPORTACAO E EXPO... 3972658 - PROTESE PENIANA EM ELASTOMERO DE SILI...    1300.00   \n",
       "                                                   3972674 - PROTESE TESTICULAR EM GEL DE SILICONE...     580.00   \n",
       "                                                   5344522 - PROTESE TESTICULAR                           685.50   \n",
       "                                                   697001 - PROTESE P/TESTICULO,SILICONE,(TAM.GRANDE)     685.50   \n",
       "                                                   771082 - GRAMPEADOR CIRURGICO LINEAR CORTANTE 7...     500.00   \n",
       "\n",
       "                                                                                                                mean  \\\n",
       "Cod Desc Fornecedor                                Cod Desc Item                                                       \n",
       "00000028000129 - TARGET ENGENHARIA E CONSULTORI... 187844 - HOSPEDAGEM DE SERVIDORES                   256700.000000   \n",
       "00002314000123 - ELETRO SOLDAS COMERCIAL LTDA - ME 2133946 - SOLDA DE ACO CARBONO,TIPO ARAME,0,8MM        228.750000   \n",
       "                                                   2982315 - ACETILENO COMUM PARA SOLDA, CILINDRO ...      49.800000   \n",
       "                                                   3090582 - GAS ESPECIAL COMPOSTO POR 75% DE ARGO...     219.442857   \n",
       "                                                   3811980 - OXIGENIO, TIPO COMUM, PARA SOLDA, CIL...     143.000000   \n",
       "...                                                                                                              ...   \n",
       "97520092000172 - ENDO MEDICAL IMPORTACAO E EXPO... 3972658 - PROTESE PENIANA EM ELASTOMERO DE SILI...    1300.000000   \n",
       "                                                   3972674 - PROTESE TESTICULAR EM GEL DE SILICONE...     580.000000   \n",
       "                                                   5344522 - PROTESE TESTICULAR                           685.500000   \n",
       "                                                   697001 - PROTESE P/TESTICULO,SILICONE,(TAM.GRANDE)     685.500000   \n",
       "                                                   771082 - GRAMPEADOR CIRURGICO LINEAR CORTANTE 7...     500.000000   \n",
       "\n",
       "                                                                                                              std  \n",
       "Cod Desc Fornecedor                                Cod Desc Item                                                   \n",
       "00000028000129 - TARGET ENGENHARIA E CONSULTORI... 187844 - HOSPEDAGEM DE SERVIDORES                          NaN  \n",
       "00002314000123 - ELETRO SOLDAS COMERCIAL LTDA - ME 2133946 - SOLDA DE ACO CARBONO,TIPO ARAME,0,8MM            NaN  \n",
       "                                                   2982315 - ACETILENO COMUM PARA SOLDA, CILINDRO ...         NaN  \n",
       "                                                   3090582 - GAS ESPECIAL COMPOSTO POR 75% DE ARGO...  171.543074  \n",
       "                                                   3811980 - OXIGENIO, TIPO COMUM, PARA SOLDA, CIL...         NaN  \n",
       "...                                                                                                           ...  \n",
       "97520092000172 - ENDO MEDICAL IMPORTACAO E EXPO... 3972658 - PROTESE PENIANA EM ELASTOMERO DE SILI...         NaN  \n",
       "                                                   3972674 - PROTESE TESTICULAR EM GEL DE SILICONE...         NaN  \n",
       "                                                   5344522 - PROTESE TESTICULAR                               NaN  \n",
       "                                                   697001 - PROTESE P/TESTICULO,SILICONE,(TAM.GRANDE)         NaN  \n",
       "                                                   771082 - GRAMPEADOR CIRURGICO LINEAR CORTANTE 7...         NaN  \n",
       "\n",
       "[107821 rows x 4 columns]"
      ]
     },
     "execution_count": 30,
     "metadata": {},
     "output_type": "execute_result"
    }
   ],
   "source": [
    "# Solução\n",
    "df_bec.groupby(['Cod Desc Fornecedor', 'Cod Desc Item'])['Valor Unitário Negociado'].agg(['min', 'max', 'mean', 'std'])"
   ]
  },
  {
   "cell_type": "markdown",
   "metadata": {
    "colab_type": "text",
    "id": "eU3R3dlBSCW4"
   },
   "source": [
    "**10** Calcular o valor total negociado em cada encerramento de mês. O encerramento do mês deve ser apresentado como coluna. Utilizar o total negociado em milhões (Valor Negociado Mi).\n",
    "\n"
   ]
  },
  {
   "cell_type": "code",
   "execution_count": 31,
   "metadata": {
    "colab": {
     "base_uri": "https://localhost:8080/",
     "height": 221
    },
    "colab_type": "code",
    "executionInfo": {
     "elapsed": 980,
     "status": "ok",
     "timestamp": 1586711171195,
     "user": {
      "displayName": "Gustavo Favorito Demarchi",
      "photoUrl": "",
      "userId": "01940692939914574708"
     },
     "user_tz": 180
    },
    "id": "rCZJDovFBlxQ",
    "outputId": "54abb8a3-9910-4bf5-89e9-308c1d92e71d"
   },
   "outputs": [
    {
     "data": {
      "text/plain": [
       "Mês Ano Encerramento\n",
       "2019-01-01     663.364183\n",
       "2019-02-01     792.873014\n",
       "2019-03-01     632.310322\n",
       "2019-04-01     725.169667\n",
       "2019-05-01    1323.170611\n",
       "2019-06-01     574.674755\n",
       "2019-07-01    1916.317227\n",
       "2019-08-01    1244.317418\n",
       "2019-09-01    1043.932783\n",
       "2019-10-01     716.399755\n",
       "Name: Valor Negociado Mi, dtype: float64"
      ]
     },
     "execution_count": 31,
     "metadata": {},
     "output_type": "execute_result"
    }
   ],
   "source": [
    "# Solução\n",
    "df_bec.groupby('Mês Ano Encerramento')['Valor Negociado Mi'].sum()"
   ]
  },
  {
   "cell_type": "markdown",
   "metadata": {
    "colab_type": "text",
    "id": "9ZRR1AM2SFzF"
   },
   "source": [
    "**11** Calcular o valor total negociado e quantidade de itens adquiridas em cada encerramento de mês"
   ]
  },
  {
   "cell_type": "code",
   "execution_count": 32,
   "metadata": {
    "colab": {
     "base_uri": "https://localhost:8080/",
     "height": 424
    },
    "colab_type": "code",
    "executionInfo": {
     "elapsed": 1014,
     "status": "ok",
     "timestamp": 1586711428477,
     "user": {
      "displayName": "Gustavo Favorito Demarchi",
      "photoUrl": "",
      "userId": "01940692939914574708"
     },
     "user_tz": 180
    },
    "id": "B31TSbGSJUXa",
    "outputId": "d5654af8-f846-4dc1-88c9-5282d71283eb"
   },
   "outputs": [
    {
     "name": "stderr",
     "output_type": "stream",
     "text": [
      "<ipython-input-32-3faaeffc53af>:2: FutureWarning: Indexing with multiple keys (implicitly converted to a tuple of keys) will be deprecated, use a list instead.\n",
      "  df_bec.groupby('Mês Ano Encerramento')['Valor Total Negociado em R$','Quantidade de Item'].sum()\n"
     ]
    },
    {
     "data": {
      "text/html": [
       "<div>\n",
       "<style scoped>\n",
       "    .dataframe tbody tr th:only-of-type {\n",
       "        vertical-align: middle;\n",
       "    }\n",
       "\n",
       "    .dataframe tbody tr th {\n",
       "        vertical-align: top;\n",
       "    }\n",
       "\n",
       "    .dataframe thead th {\n",
       "        text-align: right;\n",
       "    }\n",
       "</style>\n",
       "<table border=\"1\" class=\"dataframe\">\n",
       "  <thead>\n",
       "    <tr style=\"text-align: right;\">\n",
       "      <th></th>\n",
       "      <th>Valor Total Negociado em R$</th>\n",
       "      <th>Quantidade de Item</th>\n",
       "    </tr>\n",
       "    <tr>\n",
       "      <th>Mês Ano Encerramento</th>\n",
       "      <th></th>\n",
       "      <th></th>\n",
       "    </tr>\n",
       "  </thead>\n",
       "  <tbody>\n",
       "    <tr>\n",
       "      <th>2019-01-01</th>\n",
       "      <td>6.633642e+08</td>\n",
       "      <td>4452</td>\n",
       "    </tr>\n",
       "    <tr>\n",
       "      <th>2019-02-01</th>\n",
       "      <td>7.928730e+08</td>\n",
       "      <td>11306</td>\n",
       "    </tr>\n",
       "    <tr>\n",
       "      <th>2019-03-01</th>\n",
       "      <td>6.323103e+08</td>\n",
       "      <td>18933</td>\n",
       "    </tr>\n",
       "    <tr>\n",
       "      <th>2019-04-01</th>\n",
       "      <td>7.251697e+08</td>\n",
       "      <td>27646</td>\n",
       "    </tr>\n",
       "    <tr>\n",
       "      <th>2019-05-01</th>\n",
       "      <td>1.323171e+09</td>\n",
       "      <td>25318</td>\n",
       "    </tr>\n",
       "    <tr>\n",
       "      <th>2019-06-01</th>\n",
       "      <td>5.746748e+08</td>\n",
       "      <td>20844</td>\n",
       "    </tr>\n",
       "    <tr>\n",
       "      <th>2019-07-01</th>\n",
       "      <td>1.916317e+09</td>\n",
       "      <td>24565</td>\n",
       "    </tr>\n",
       "    <tr>\n",
       "      <th>2019-08-01</th>\n",
       "      <td>1.244317e+09</td>\n",
       "      <td>26023</td>\n",
       "    </tr>\n",
       "    <tr>\n",
       "      <th>2019-09-01</th>\n",
       "      <td>1.043933e+09</td>\n",
       "      <td>26715</td>\n",
       "    </tr>\n",
       "    <tr>\n",
       "      <th>2019-10-01</th>\n",
       "      <td>7.163998e+08</td>\n",
       "      <td>13289</td>\n",
       "    </tr>\n",
       "  </tbody>\n",
       "</table>\n",
       "</div>"
      ],
      "text/plain": [
       "                      Valor Total Negociado em R$  Quantidade de Item\n",
       "Mês Ano Encerramento                                                 \n",
       "2019-01-01                           6.633642e+08                4452\n",
       "2019-02-01                           7.928730e+08               11306\n",
       "2019-03-01                           6.323103e+08               18933\n",
       "2019-04-01                           7.251697e+08               27646\n",
       "2019-05-01                           1.323171e+09               25318\n",
       "2019-06-01                           5.746748e+08               20844\n",
       "2019-07-01                           1.916317e+09               24565\n",
       "2019-08-01                           1.244317e+09               26023\n",
       "2019-09-01                           1.043933e+09               26715\n",
       "2019-10-01                           7.163998e+08               13289"
      ]
     },
     "execution_count": 32,
     "metadata": {},
     "output_type": "execute_result"
    }
   ],
   "source": [
    "# Solução\n",
    "df_bec.groupby('Mês Ano Encerramento')['Valor Total Negociado em R$','Quantidade de Item'].sum()"
   ]
  },
  {
   "cell_type": "code",
   "execution_count": 33,
   "metadata": {
    "colab": {
     "base_uri": "https://localhost:8080/",
     "height": 269
    },
    "colab_type": "code",
    "executionInfo": {
     "elapsed": 1911,
     "status": "ok",
     "timestamp": 1586711444025,
     "user": {
      "displayName": "Gustavo Favorito Demarchi",
      "photoUrl": "",
      "userId": "01940692939914574708"
     },
     "user_tz": 180
    },
    "id": "58Co7Q8ZSrNA",
    "outputId": "d3e29182-37b4-416d-ee8c-b5db8fba4f17"
   },
   "outputs": [
    {
     "data": {
      "text/html": [
       "<div>\n",
       "<style scoped>\n",
       "    .dataframe tbody tr th:only-of-type {\n",
       "        vertical-align: middle;\n",
       "    }\n",
       "\n",
       "    .dataframe tbody tr th {\n",
       "        vertical-align: top;\n",
       "    }\n",
       "\n",
       "    .dataframe thead th {\n",
       "        text-align: right;\n",
       "    }\n",
       "</style>\n",
       "<table border=\"1\" class=\"dataframe\">\n",
       "  <thead>\n",
       "    <tr style=\"text-align: right;\">\n",
       "      <th></th>\n",
       "      <th>High</th>\n",
       "      <th>Low</th>\n",
       "      <th>Open</th>\n",
       "      <th>Close</th>\n",
       "      <th>Volume</th>\n",
       "      <th>Adj Close</th>\n",
       "    </tr>\n",
       "    <tr>\n",
       "      <th>Date</th>\n",
       "      <th></th>\n",
       "      <th></th>\n",
       "      <th></th>\n",
       "      <th></th>\n",
       "      <th></th>\n",
       "      <th></th>\n",
       "    </tr>\n",
       "  </thead>\n",
       "  <tbody>\n",
       "    <tr>\n",
       "      <th>2019-12-20</th>\n",
       "      <td>54.990002</td>\n",
       "      <td>54.150002</td>\n",
       "      <td>54.770000</td>\n",
       "      <td>54.790001</td>\n",
       "      <td>42124200.0</td>\n",
       "      <td>53.375641</td>\n",
       "    </tr>\n",
       "    <tr>\n",
       "      <th>2019-12-23</th>\n",
       "      <td>54.980000</td>\n",
       "      <td>54.400002</td>\n",
       "      <td>54.900002</td>\n",
       "      <td>54.580002</td>\n",
       "      <td>10225700.0</td>\n",
       "      <td>53.171062</td>\n",
       "    </tr>\n",
       "    <tr>\n",
       "      <th>2019-12-26</th>\n",
       "      <td>55.000000</td>\n",
       "      <td>54.509998</td>\n",
       "      <td>54.810001</td>\n",
       "      <td>54.790001</td>\n",
       "      <td>20410000.0</td>\n",
       "      <td>53.375641</td>\n",
       "    </tr>\n",
       "    <tr>\n",
       "      <th>2019-12-27</th>\n",
       "      <td>54.000000</td>\n",
       "      <td>53.419998</td>\n",
       "      <td>53.990002</td>\n",
       "      <td>53.599998</td>\n",
       "      <td>13920400.0</td>\n",
       "      <td>53.599998</td>\n",
       "    </tr>\n",
       "    <tr>\n",
       "      <th>2019-12-30</th>\n",
       "      <td>53.860001</td>\n",
       "      <td>53.200001</td>\n",
       "      <td>53.650002</td>\n",
       "      <td>53.299999</td>\n",
       "      <td>11928100.0</td>\n",
       "      <td>53.299999</td>\n",
       "    </tr>\n",
       "  </tbody>\n",
       "</table>\n",
       "</div>"
      ],
      "text/plain": [
       "                 High        Low       Open      Close      Volume  Adj Close\n",
       "Date                                                                         \n",
       "2019-12-20  54.990002  54.150002  54.770000  54.790001  42124200.0  53.375641\n",
       "2019-12-23  54.980000  54.400002  54.900002  54.580002  10225700.0  53.171062\n",
       "2019-12-26  55.000000  54.509998  54.810001  54.790001  20410000.0  53.375641\n",
       "2019-12-27  54.000000  53.419998  53.990002  53.599998  13920400.0  53.599998\n",
       "2019-12-30  53.860001  53.200001  53.650002  53.299999  11928100.0  53.299999"
      ]
     },
     "execution_count": 33,
     "metadata": {},
     "output_type": "execute_result"
    }
   ],
   "source": [
    "# recuperação da cotação da VALE3\n",
    "from pandas_datareader import data\n",
    "df_vale3 = data.DataReader('VALE3.SA', start='2010', end='2020', data_source='yahoo')\n",
    "df_vale3.tail()"
   ]
  },
  {
   "cell_type": "markdown",
   "metadata": {
    "colab_type": "text",
    "id": "r5HiA9FmSRYe"
   },
   "source": [
    "**12** Criar uma coluna com o valor da média móvel de 10 períodos da VALE3 baseado no valor de fechamento."
   ]
  },
  {
   "cell_type": "code",
   "execution_count": 34,
   "metadata": {
    "colab": {
     "base_uri": "https://localhost:8080/",
     "height": 391
    },
    "colab_type": "code",
    "executionInfo": {
     "elapsed": 998,
     "status": "ok",
     "timestamp": 1586714339282,
     "user": {
      "displayName": "Gustavo Favorito Demarchi",
      "photoUrl": "",
      "userId": "01940692939914574708"
     },
     "user_tz": 180
    },
    "id": "u-dUtWnJQ3IO",
    "outputId": "f2b27312-bd2a-4f42-d012-43c4e01bd475"
   },
   "outputs": [
    {
     "data": {
      "text/plain": [
       "Date\n",
       "2019-11-29    49.424\n",
       "2019-12-02    49.858\n",
       "2019-12-03    50.139\n",
       "2019-12-04    50.414\n",
       "2019-12-05    50.667\n",
       "2019-12-06    50.799\n",
       "2019-12-09    50.857\n",
       "2019-12-10    50.855\n",
       "2019-12-11    50.980\n",
       "2019-12-12    51.238\n",
       "2019-12-13    51.616\n",
       "2019-12-16    51.816\n",
       "2019-12-17    52.116\n",
       "2019-12-18    52.371\n",
       "2019-12-19    52.676\n",
       "2019-12-20    53.020\n",
       "2019-12-23    53.334\n",
       "2019-12-26    53.693\n",
       "2019-12-27    53.870\n",
       "2019-12-30    53.905\n",
       "Name: Close, dtype: float64"
      ]
     },
     "execution_count": 34,
     "metadata": {},
     "output_type": "execute_result"
    }
   ],
   "source": [
    "# Solução\n",
    "media_movel = df_vale3['Close'].rolling(10).mean()\n",
    "media_movel.tail(20)"
   ]
  },
  {
   "cell_type": "markdown",
   "metadata": {
    "colab_type": "text",
    "id": "jaPnqX_HSTF2"
   },
   "source": [
    "**13** Criar uma coluna com o valor do retorno diário da VALE3 baseado no valor de fechamento (Close) \n",
    "\n",
    "*Retorno diário(t) = Close(t) - Close(t-1)*\n",
    "\n",
    "\n",
    "\n",
    "\n"
   ]
  },
  {
   "cell_type": "code",
   "execution_count": 35,
   "metadata": {
    "colab": {
     "base_uri": "https://localhost:8080/",
     "height": 357
    },
    "colab_type": "code",
    "executionInfo": {
     "elapsed": 1594,
     "status": "ok",
     "timestamp": 1586742694023,
     "user": {
      "displayName": "Gustavo Favorito Demarchi",
      "photoUrl": "",
      "userId": "01940692939914574708"
     },
     "user_tz": 180
    },
    "id": "SLWLQ8PRPbh_",
    "outputId": "9becaf50-43ef-4721-8a06-5d078842b990"
   },
   "outputs": [
    {
     "data": {
      "text/plain": [
       "[0.4799995422363281,\n",
       " 1.0999984741210938,\n",
       " 0.220001220703125,\n",
       " 0.5200004577636719,\n",
       " -0.15999984741210938,\n",
       " -0.15000152587890625,\n",
       " 0.6599998474121094,\n",
       " -0.009998321533203125,\n",
       " -0.7000007629394531,\n",
       " 0.75,\n",
       " 0.75,\n",
       " -1.5,\n",
       " -1.8500022888183594,\n",
       " -1.0900001525878906,\n",
       " -1.0199966430664062,\n",
       " -0.6800003051757812,\n",
       " -0.030002593994140625,\n",
       " 0.13000106811523438,\n",
       " 1.4799995422363281,\n",
       " 0.0]"
      ]
     },
     "execution_count": 35,
     "metadata": {},
     "output_type": "execute_result"
    }
   ],
   "source": [
    "# Solução\n",
    "def calc_valor_diario(x):\n",
    "  list = []\n",
    "\n",
    "  for i in range(1, len(x) - 1):\n",
    "    list.append(x[i] - x[i - 1])\n",
    "\n",
    "  return list\n",
    "\n",
    "valor_diario = calc_valor_diario(df_vale3['Close'])\n",
    "valor_diario[0:20]"
   ]
  }
 ],
 "metadata": {
  "colab": {
   "collapsed_sections": [],
   "name": "Gustavo Favorito Demarchi - Atividade04_USJT_2020_DATAMINING_Pandas.ipynb",
   "provenance": []
  },
  "kernelspec": {
   "display_name": "Python 3",
   "language": "python",
   "name": "python3"
  },
  "language_info": {
   "codemirror_mode": {
    "name": "ipython",
    "version": 3
   },
   "file_extension": ".py",
   "mimetype": "text/x-python",
   "name": "python",
   "nbconvert_exporter": "python",
   "pygments_lexer": "ipython3",
   "version": "3.8.3"
  }
 },
 "nbformat": 4,
 "nbformat_minor": 1
}
